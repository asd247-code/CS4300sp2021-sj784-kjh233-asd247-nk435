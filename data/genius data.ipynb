{
 "cells": [
  {
   "cell_type": "code",
   "execution_count": 1,
   "id": "cleared-electron",
   "metadata": {},
   "outputs": [],
   "source": [
    "from LyricsDB import LyricsDB as LDB\n",
    "import pickle\n",
    "\n",
    "df= pickle.load(open('genius28k.p', 'rb')) # load df\n",
    "db = LDB(df)\n",
    "db.fit() # this builds the tfidf\n",
    "# this takes several mins to build"
   ]
  },
  {
   "cell_type": "code",
   "execution_count": 2,
   "id": "excellent-plant",
   "metadata": {},
   "outputs": [
    {
     "output_type": "execute_result",
     "data": {
      "text/plain": [
       "((27455, 21398), scipy.sparse.csr.csr_matrix)"
      ]
     },
     "metadata": {},
     "execution_count": 2
    }
   ],
   "source": [
    "db.X.shape, type(db.X) # tf-idf matrix is stored as sparse matrix"
   ]
  },
  {
   "cell_type": "code",
   "execution_count": 3,
   "id": "lonely-antarctica",
   "metadata": {},
   "outputs": [
    {
     "output_type": "stream",
     "name": "stdout",
     "text": [
      "['school', 'witchcraft', 'wizardry', 'just', 'morning', 'trio', 'breakfast', 'grand', 'hall', 'great']\n"
     ]
    }
   ],
   "source": [
    "from collections import defaultdict, Counter\n",
    "from nltk import word_tokenize\n",
    "from nltk.corpus import words, stopwords\n",
    "\n",
    "DICTIONARY = set(words.words())\n",
    "STOPWORDS = set(stopwords.words('english'))\n",
    "\n",
    "text = open('sample.txt', 'r+', encoding='utf-8').read() # fanfiction\n",
    "tokens = [token for token in word_tokenize(text.lower()) if token in db.word_to_ix]\n",
    "\n",
    "print(tokens[:10]) # peek at tokens\n",
    "term_freq = Counter(tokens)"
   ]
  },
  {
   "cell_type": "code",
   "execution_count": 4,
   "id": "filled-orchestra",
   "metadata": {},
   "outputs": [
    {
     "output_type": "stream",
     "name": "stdout",
     "text": [
      "luna 23 | harry 18 | just 16 | said 15 | school 10 | did 10 | little 10 | oh 9 | looking 8 | professor 8 | "
     ]
    }
   ],
   "source": [
    "for tok, count in sorted(term_freq.items(), key=lambda x: x[1], reverse=True)[:10]:\n",
    "    print(tok, count, end=' | ') # most frequent words"
   ]
  },
  {
   "cell_type": "code",
   "execution_count": 5,
   "id": "fleet-register",
   "metadata": {},
   "outputs": [
    {
     "output_type": "stream",
     "name": "stdout",
     "text": [
      "24791 ('Harry Styles', 'Mambo No 5.') 0.3617224233494011\n",
      "15077 ('Juanes', 'Ninguna') 0.2940031634472239\n",
      "13758 ('Don Omar', 'Luna') 0.2518043066109154\n",
      "17019 ('Nelly Furtado', 'Lo Bueno Siempre Tiene un Final (All Good Things Come to an End) [Spanish Version]') 0.23758269312560848\n",
      "18464 ('Paulina Rubio', 'Bajo La Luna') 0.23363118290826596\n",
      "8269 ('Jason Mraz', 'Bella Luna') 0.20258252718016515\n",
      "13797 ('Alejandro Sanz', 'Un charquito de estrellas') 0.1958024750020582\n",
      "4007 ('R. Kelly', 'Trapped in the Closet Chapter 5') 0.15915654499794568\n",
      "6120 ('Daddy Yankee', 'Runaway') 0.15781164816564852\n",
      "17605 ('Creed', 'Keep On Chooglin’') 0.15665807239070836\n"
     ]
    }
   ],
   "source": [
    "for doc_id, info, score in db.cosine_sim_rank(text):\n",
    "    print(doc_id, info, score)"
   ]
  },
  {
   "cell_type": "code",
   "execution_count": 6,
   "metadata": {},
   "outputs": [
    {
     "output_type": "execute_result",
     "data": {
      "text/plain": [
       "array(['yo', 'ya', 'tan', 'son', 'solo', 'se', 'para', 'papa', 'ni', 'mi',\n",
       "       'luna', 'hay', 'ha', 'es', 'el', 'ay'], dtype='<U16')"
      ]
     },
     "metadata": {},
     "execution_count": 6
    }
   ],
   "source": [
    "db.get_lyrics_from_id(15077) # gets all the words from a song"
   ]
  },
  {
   "cell_type": "code",
   "execution_count": 7,
   "metadata": {},
   "outputs": [
    {
     "output_type": "execute_result",
     "data": {
      "text/plain": [
       "('Juanes', 'Ninguna')"
      ]
     },
     "metadata": {},
     "execution_count": 7
    }
   ],
   "source": [
    "db[15077] # db can be accessed directly from index"
   ]
  },
  {
   "cell_type": "code",
   "execution_count": 8,
   "metadata": {},
   "outputs": [
    {
     "output_type": "execute_result",
     "data": {
      "text/plain": [
       "[(1191, 'Blake Shelton', 'Money'),\n",
       " (21135, 'Mat Kearney', 'Money'),\n",
       " (24602, 'Roddy Ricch', 'Money'),\n",
       " (26065, 'Cardi B', 'Money')]"
      ]
     },
     "metadata": {},
     "execution_count": 8
    }
   ],
   "source": [
    "db.search_song('money') # gets all the songs with song titles"
   ]
  },
  {
   "cell_type": "code",
   "execution_count": 10,
   "id": "advanced-examination",
   "metadata": {},
   "outputs": [
    {
     "output_type": "stream",
     "name": "stdout",
     "text": [
      "['10 Years', '112', '2 Chainz', '2 Pistols', '2Pac', '3 Doors Down', '311', '3LW', '3OH!3', '5 Seconds Of Summer', '50 Cent', '702', 'A Perfect Circle', 'A Rocket To The Moon', 'A Tribe Called Quest', 'A*Teens', 'AFI', 'AJR', 'AWOLNATION', 'Aaron Carter', 'Aaron Lewis', 'Aaron Lines', 'Aaron Tippin', 'Ace Hood', 'Action Bronson', 'Adam Lambert', 'Adam Levine', 'Adele', 'Aerosmith', 'Afrojack', 'Afroman', 'Airwaves', 'Akon', 'Alabama', 'Alan Jackson', 'Alanis Morissette', 'Alejandro Sanz', 'Alex Clare', 'Alexandra Stan', 'Alice In Chains', 'Alicia Keys', 'Alien Ant Farm', 'Alisan Porter', 'Alison Krauss', 'Aloe Blacc', 'Alpha Rev', 'Alvin And The Chipmunks', 'Aly & AJ', 'Amanda', 'Amanda Perez', 'Amel Larrieux', 'American Hi-Fi', 'Amerie', 'Amy Winehouse', 'Anastacia', 'Andrea Bocelli', 'Andy Grammer', 'Andy Griggs', 'Andy Williams', 'Angie Stone', 'Anita Baker', 'Anna Nalick', 'Annie Lennox', 'Anthony Hamilton', 'Anya Marina', 'Apocalyptica', 'Arcade Fire', 'Arctic Monkeys', 'Ariana Grande', 'Arizona Zervas', 'Armin van Buuren', 'Ashanti', 'Asher Roth', 'Ashlee Simpson', 'Ashley Tisdale', 'Audioslave', 'Augustana', 'Avant', 'Avenged Sevenfold', 'Aventura', 'Avril Lavigne', 'Azul Azul', 'B*Witched', 'B.o.B', 'B2K', 'BBMak', 'BTS', 'Baby Bash', 'Babyface', 'Backstreet Boys', 'Bad Bunny', 'Baha Men', 'Barbra Streisand', 'Barenaked Ladies', 'Beanie Sigel', 'Beastie Boys', 'Becky G', 'Beenie Man', 'Ben Folds', 'Ben Rector']\n"
     ]
    }
   ],
   "source": [
    "artists = df['artist'].tolist()\n",
    "print(sorted(set(artists))[:100]) # list artists\n",
    "artists = sorted(set(artists))"
   ]
  },
  {
   "cell_type": "code",
   "execution_count": null,
   "metadata": {},
   "outputs": [],
   "source": []
  }
 ],
 "metadata": {
  "kernelspec": {
   "name": "python385jvsc74a57bd07bbc53da2d95dc41dd8ecbae1ddafb826ff85dd4e742267596895523cce3e7e5",
   "display_name": "Python 3.8.5 64-bit (conda)"
  },
  "language_info": {
   "codemirror_mode": {
    "name": "ipython",
    "version": 3
   },
   "file_extension": ".py",
   "mimetype": "text/x-python",
   "name": "python",
   "nbconvert_exporter": "python",
   "pygments_lexer": "ipython3",
   "version": "3.8.5-final"
  }
 },
 "nbformat": 4,
 "nbformat_minor": 5
}